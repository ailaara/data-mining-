{
  "nbformat": 4,
  "nbformat_minor": 0,
  "metadata": {
    "colab": {
      "provenance": [],
      "include_colab_link": true
    },
    "kernelspec": {
      "name": "python3",
      "display_name": "Python 3"
    },
    "language_info": {
      "name": "python"
    }
  },
  "cells": [
    {
      "cell_type": "markdown",
      "metadata": {
        "id": "view-in-github",
        "colab_type": "text"
      },
      "source": [
        "<a href=\"https://colab.research.google.com/github/ailaara/data-mining-/blob/main/A2_2109116035_Posttest_1.ipynb\" target=\"_parent\"><img src=\"https://colab.research.google.com/assets/colab-badge.svg\" alt=\"Open In Colab\"/></a>"
      ]
    },
    {
      "cell_type": "markdown",
      "source": [
        "<h1>Posttest Praktikum Sistem Informasi </h1>\n",
        "\n",
        "NIM **2109116035**\n",
        "\n",
        "NAMA **AMALIA RAHMI OKTAVIA**\n",
        "\n",
        "> Kerjakanlah tugas berikut berdasarkan instruksi yang diberkan. Kumpulkanlah hasil posttest ini pada Github dengan mengumpulkan link repository kalian.\n",
        "\n",
        "Disini ada dua jenis tugas.\n",
        "\n",
        "1. Visualisasi\n",
        "2. Penerapan Algoritma Naive Bayes\n",
        "\n",
        "\n",
        "Ketentuan pengumpulan tugas :\n",
        "1. Kumpul Tugas ini dengan Format Kelas_NIM_Posttest 1.ipynb\n",
        "2. Kumpulkan dalam bentuk link repository github\n",
        "3. Berikan penjelasan untuk setiap blok kode dengan membuat text atau comment pada kodingan\n",
        "4. Untuk bagian penjelasan gausa terlalu panjang. \n",
        "singkat padat dan jelas\n",
        "\n",
        "\n"
      ],
      "metadata": {
        "id": "W-uS6_66tbij"
      }
    },
    {
      "cell_type": "markdown",
      "source": [
        "## Business Understanding & Data Understanding"
      ],
      "metadata": {
        "id": "m2edIZ4Rzj_Y"
      }
    },
    {
      "cell_type": "markdown",
      "source": [
        "Importlah pandas, seaborn, dan plotly\n",
        "\n",
        "Download dataset dari link ini [**Link Dataset**](https://github.com/fnikolas-r/Data-Mining-Course/blob/main/Pertemuan%202/ChurnBank.csv)\n",
        "\n",
        "\n",
        "\n",
        "\n",
        "Kemudian taruhlah dalam sebuah variabel bernama df\n",
        "\n",
        "\n",
        "*note: kalian dapat menambah blok yang ada*"
      ],
      "metadata": {
        "id": "wxyi84yY7Lla"
      }
    },
    {
      "cell_type": "code",
      "source": [
        "import pandas as pd\n",
        "import seaborn as sns\n",
        "import plotly.express as px"
      ],
      "metadata": {
        "id": "SxoNGkcXv8wf"
      },
      "execution_count": null,
      "outputs": []
    },
    {
      "cell_type": "code",
      "execution_count": null,
      "metadata": {
        "id": "gxbjtLI5s8pn"
      },
      "outputs": [],
      "source": [
        "# Buatlah datasetnya disini\n",
        "df = pd.read_csv(\"ChurnBank.csv\")\n",
        "df"
      ]
    },
    {
      "cell_type": "markdown",
      "source": [
        "### Business Understanding\n",
        "\n",
        "\n",
        "1.   **Tujuan penggunaan dataset**<br>\n",
        "     Data diatas memberikan informasi tentang pelanggan pada perusahaan kursi pijat otomatis, berisikan informasi pengguna kursi yang akan dijadikan riset untuk melihat perkembangan perusahaan selanjutnya\n",
        "\n",
        "2.   **Tujuan Perusahaan**<br>\n",
        "     Perusahaan ini bergerak di bidang jasa kursi pijat otomatis, dalam perusahaan jasa nilai peluang pembelian kembali dapat diketahui dari data lampau.\n",
        "\n",
        "3.   **Tujuan penggunaan Naive Bayes**<br>\n",
        "     Naive bayes digunakan untuk memprediksi besrnya kemungkinan konsumen akan kembali lagi dan berlangganan atau kemungkinan tidak sama sekali, dengan menghitung probabilitasnya."
      ],
      "metadata": {
        "id": "4zonMQ5M9OxL"
      }
    },
    {
      "cell_type": "markdown",
      "source": [
        "### Data Understanding"
      ],
      "metadata": {
        "id": "Uj2U1K8y-A2J"
      }
    },
    {
      "cell_type": "code",
      "source": [
        "# Dari dataset diatas buatlah  variabel yang berisi\n",
        "# df1 isinya dataset dengan label target AttiredCustomer\n",
        "# df2 dengan label bukan Attrired customer\n",
        "# df3 dengan tabel untuk usia dibawah 50 tahun\n",
        "# df4 untuk customer yang statusnya itu single\n",
        "\n",
        "\n",
        "\n",
        "df1 = df[df['Attrition_Flag']== 'Attrited Customer']\n",
        "df2 = df[df['Attrition_Flag']== 'Existing Customer']\n",
        "df3 = df[df['Customer_Age'] < 50]\n",
        "df4 = df[df['Marital_Status']== 'Single']\n"
      ],
      "metadata": {
        "id": "fOe_dNgC7ZVp"
      },
      "execution_count": null,
      "outputs": []
    },
    {
      "cell_type": "code",
      "source": [
        "df1"
      ],
      "metadata": {
        "id": "o5oKl0NE1O8j"
      },
      "execution_count": null,
      "outputs": []
    },
    {
      "cell_type": "code",
      "source": [
        "df2"
      ],
      "metadata": {
        "id": "udPCg15m1ShP"
      },
      "execution_count": null,
      "outputs": []
    },
    {
      "cell_type": "code",
      "source": [
        "df3"
      ],
      "metadata": {
        "id": "euxAIwH61YcW"
      },
      "execution_count": null,
      "outputs": []
    },
    {
      "cell_type": "code",
      "source": [
        "df4"
      ],
      "metadata": {
        "id": "fyZP61bM1cUw"
      },
      "execution_count": null,
      "outputs": []
    },
    {
      "cell_type": "code",
      "source": [
        "# Tampilkan info dataset (df.info()) dan berikan penjelasannya dalam bentuk teks atau comment\n",
        "\n",
        "dfinf = (df.info())\n",
        "dfinf\n",
        "\n",
        "#jadi info ini menunjukkan ada berapa kolom dalam data diatas (10 kolom), dan memberikan informasi masing\" nama kolom\n",
        "# masing\" kolom memiliki 20 data dengan tipe data yang berbeda\" yaitu :  float64(1), int64(3), object(6)\n"
      ],
      "metadata": {
        "id": "vm89zlTTOl4D",
        "colab": {
          "base_uri": "https://localhost:8080/"
        },
        "outputId": "51ba8b21-68b5-44cd-8dac-7235e14386ed"
      },
      "execution_count": null,
      "outputs": [
        {
          "output_type": "stream",
          "name": "stdout",
          "text": [
            "<class 'pandas.core.frame.DataFrame'>\n",
            "RangeIndex: 20 entries, 0 to 19\n",
            "Data columns (total 10 columns):\n",
            " #   Column           Non-Null Count  Dtype  \n",
            "---  ------           --------------  -----  \n",
            " 0   Unnamed: 0       20 non-null     int64  \n",
            " 1   CLIENTNUM        20 non-null     int64  \n",
            " 2   Attrition_Flag   20 non-null     object \n",
            " 3   Customer_Age     20 non-null     int64  \n",
            " 4   Gender           20 non-null     object \n",
            " 5   Education_Level  20 non-null     object \n",
            " 6   Marital_Status   20 non-null     object \n",
            " 7   Income_Category  20 non-null     object \n",
            " 8   Card_Category    20 non-null     object \n",
            " 9   Credit_Limit     20 non-null     float64\n",
            "dtypes: float64(1), int64(3), object(6)\n",
            "memory usage: 1.7+ KB\n"
          ]
        }
      ]
    },
    {
      "cell_type": "markdown",
      "source": [],
      "metadata": {
        "id": "Sjf3abnr2B0w"
      }
    },
    {
      "cell_type": "code",
      "source": [
        "#@title Opsional (nilai plus)\n",
        "\n",
        "# Tampilkan nilai rata-rata, min,max, dan standar deviasi  untuk setiap kolom bertipe angka\n",
        "\n",
        "dfai = df.aggregate ({ \"Unnamed: 0\":[\"min\", \"max\", \"mean\", \"std\"],\n",
        "                      \"Customer_Age\":[\"min\", \"max\", \"mean\", \"std\"],\n",
        "                      \"CLIENTNUM\":[\"min\", \"max\", \"mean\", \"std\"]})\n",
        "dfai"
      ],
      "metadata": {
        "id": "Gk-aiwdCO3Tw",
        "colab": {
          "base_uri": "https://localhost:8080/",
          "height": 174
        },
        "outputId": "3febc5e4-9ea1-4b1f-8bbe-f038b189dcea"
      },
      "execution_count": null,
      "outputs": [
        {
          "output_type": "execute_result",
          "data": {
            "text/plain": [
              "        Unnamed: 0  Customer_Age     CLIENTNUM\n",
              "min     176.000000     32.000000  7.092220e+08\n",
              "max   10084.000000     59.000000  8.098441e+08\n",
              "mean   6105.100000     47.250000  7.424893e+08\n",
              "std    2850.304026      7.859791  4.045524e+07"
            ],
            "text/html": [
              "\n",
              "  <div id=\"df-528b970a-37ed-4855-8479-2076f563b34f\">\n",
              "    <div class=\"colab-df-container\">\n",
              "      <div>\n",
              "<style scoped>\n",
              "    .dataframe tbody tr th:only-of-type {\n",
              "        vertical-align: middle;\n",
              "    }\n",
              "\n",
              "    .dataframe tbody tr th {\n",
              "        vertical-align: top;\n",
              "    }\n",
              "\n",
              "    .dataframe thead th {\n",
              "        text-align: right;\n",
              "    }\n",
              "</style>\n",
              "<table border=\"1\" class=\"dataframe\">\n",
              "  <thead>\n",
              "    <tr style=\"text-align: right;\">\n",
              "      <th></th>\n",
              "      <th>Unnamed: 0</th>\n",
              "      <th>Customer_Age</th>\n",
              "      <th>CLIENTNUM</th>\n",
              "    </tr>\n",
              "  </thead>\n",
              "  <tbody>\n",
              "    <tr>\n",
              "      <th>min</th>\n",
              "      <td>176.000000</td>\n",
              "      <td>32.000000</td>\n",
              "      <td>7.092220e+08</td>\n",
              "    </tr>\n",
              "    <tr>\n",
              "      <th>max</th>\n",
              "      <td>10084.000000</td>\n",
              "      <td>59.000000</td>\n",
              "      <td>8.098441e+08</td>\n",
              "    </tr>\n",
              "    <tr>\n",
              "      <th>mean</th>\n",
              "      <td>6105.100000</td>\n",
              "      <td>47.250000</td>\n",
              "      <td>7.424893e+08</td>\n",
              "    </tr>\n",
              "    <tr>\n",
              "      <th>std</th>\n",
              "      <td>2850.304026</td>\n",
              "      <td>7.859791</td>\n",
              "      <td>4.045524e+07</td>\n",
              "    </tr>\n",
              "  </tbody>\n",
              "</table>\n",
              "</div>\n",
              "      <button class=\"colab-df-convert\" onclick=\"convertToInteractive('df-528b970a-37ed-4855-8479-2076f563b34f')\"\n",
              "              title=\"Convert this dataframe to an interactive table.\"\n",
              "              style=\"display:none;\">\n",
              "        \n",
              "  <svg xmlns=\"http://www.w3.org/2000/svg\" height=\"24px\"viewBox=\"0 0 24 24\"\n",
              "       width=\"24px\">\n",
              "    <path d=\"M0 0h24v24H0V0z\" fill=\"none\"/>\n",
              "    <path d=\"M18.56 5.44l.94 2.06.94-2.06 2.06-.94-2.06-.94-.94-2.06-.94 2.06-2.06.94zm-11 1L8.5 8.5l.94-2.06 2.06-.94-2.06-.94L8.5 2.5l-.94 2.06-2.06.94zm10 10l.94 2.06.94-2.06 2.06-.94-2.06-.94-.94-2.06-.94 2.06-2.06.94z\"/><path d=\"M17.41 7.96l-1.37-1.37c-.4-.4-.92-.59-1.43-.59-.52 0-1.04.2-1.43.59L10.3 9.45l-7.72 7.72c-.78.78-.78 2.05 0 2.83L4 21.41c.39.39.9.59 1.41.59.51 0 1.02-.2 1.41-.59l7.78-7.78 2.81-2.81c.8-.78.8-2.07 0-2.86zM5.41 20L4 18.59l7.72-7.72 1.47 1.35L5.41 20z\"/>\n",
              "  </svg>\n",
              "      </button>\n",
              "      \n",
              "  <style>\n",
              "    .colab-df-container {\n",
              "      display:flex;\n",
              "      flex-wrap:wrap;\n",
              "      gap: 12px;\n",
              "    }\n",
              "\n",
              "    .colab-df-convert {\n",
              "      background-color: #E8F0FE;\n",
              "      border: none;\n",
              "      border-radius: 50%;\n",
              "      cursor: pointer;\n",
              "      display: none;\n",
              "      fill: #1967D2;\n",
              "      height: 32px;\n",
              "      padding: 0 0 0 0;\n",
              "      width: 32px;\n",
              "    }\n",
              "\n",
              "    .colab-df-convert:hover {\n",
              "      background-color: #E2EBFA;\n",
              "      box-shadow: 0px 1px 2px rgba(60, 64, 67, 0.3), 0px 1px 3px 1px rgba(60, 64, 67, 0.15);\n",
              "      fill: #174EA6;\n",
              "    }\n",
              "\n",
              "    [theme=dark] .colab-df-convert {\n",
              "      background-color: #3B4455;\n",
              "      fill: #D2E3FC;\n",
              "    }\n",
              "\n",
              "    [theme=dark] .colab-df-convert:hover {\n",
              "      background-color: #434B5C;\n",
              "      box-shadow: 0px 1px 3px 1px rgba(0, 0, 0, 0.15);\n",
              "      filter: drop-shadow(0px 1px 2px rgba(0, 0, 0, 0.3));\n",
              "      fill: #FFFFFF;\n",
              "    }\n",
              "  </style>\n",
              "\n",
              "      <script>\n",
              "        const buttonEl =\n",
              "          document.querySelector('#df-528b970a-37ed-4855-8479-2076f563b34f button.colab-df-convert');\n",
              "        buttonEl.style.display =\n",
              "          google.colab.kernel.accessAllowed ? 'block' : 'none';\n",
              "\n",
              "        async function convertToInteractive(key) {\n",
              "          const element = document.querySelector('#df-528b970a-37ed-4855-8479-2076f563b34f');\n",
              "          const dataTable =\n",
              "            await google.colab.kernel.invokeFunction('convertToInteractive',\n",
              "                                                     [key], {});\n",
              "          if (!dataTable) return;\n",
              "\n",
              "          const docLinkHtml = 'Like what you see? Visit the ' +\n",
              "            '<a target=\"_blank\" href=https://colab.research.google.com/notebooks/data_table.ipynb>data table notebook</a>'\n",
              "            + ' to learn more about interactive tables.';\n",
              "          element.innerHTML = '';\n",
              "          dataTable['output_type'] = 'display_data';\n",
              "          await google.colab.output.renderOutput(dataTable, element);\n",
              "          const docLink = document.createElement('div');\n",
              "          docLink.innerHTML = docLinkHtml;\n",
              "          element.appendChild(docLink);\n",
              "        }\n",
              "      </script>\n",
              "    </div>\n",
              "  </div>\n",
              "  "
            ]
          },
          "metadata": {},
          "execution_count": 7
        }
      ]
    },
    {
      "cell_type": "markdown",
      "source": [
        "<p>penggunaaan aggregate adalah untuk mengelompokkan nilai tertentu secara cepat dan efektif</p>"
      ],
      "metadata": {
        "id": "24HoxR3m-nZo"
      }
    },
    {
      "cell_type": "markdown",
      "source": [
        "#### Explore Data"
      ],
      "metadata": {
        "id": "PmPSc7uV_XjV"
      }
    },
    {
      "cell_type": "markdown",
      "source": [
        "##### Visualisasi Comparison"
      ],
      "metadata": {
        "id": "OXfexpup_a6l"
      }
    },
    {
      "cell_type": "code",
      "source": [
        "# Buatlah visualisasi yang menampilkan berapa banyak yang attired customer dan tidak\n",
        "sns.countplot(data=df, x=\"Attrition_Flag\")"
      ],
      "metadata": {
        "id": "EIVBtry9_W5m",
        "colab": {
          "base_uri": "https://localhost:8080/",
          "height": 297
        },
        "outputId": "f90edfc8-30b7-490a-d39c-2abd1089b8a3"
      },
      "execution_count": null,
      "outputs": [
        {
          "output_type": "execute_result",
          "data": {
            "text/plain": [
              "<AxesSubplot:xlabel='Attrition_Flag', ylabel='count'>"
            ]
          },
          "metadata": {},
          "execution_count": 8
        },
        {
          "output_type": "display_data",
          "data": {
            "text/plain": [
              "<Figure size 432x288 with 1 Axes>"
            ],
            "image/png": "[encoded data removed]"
          },
          "metadata": {
            "needs_background": "light"
          }
        }
      ]
    },
    {
      "cell_type": "markdown",
      "source": [
        "<p>pada visualisasi diatas kita mendapatkan informasi bahwa antara attrited dan existing cutomer sama\" memiliki nilai yang sama </p>"
      ],
      "metadata": {
        "id": "dXrW_q-WzIrW"
      }
    },
    {
      "cell_type": "markdown",
      "source": [
        "<P></P>"
      ],
      "metadata": {
        "id": "SPytsetU567a"
      }
    },
    {
      "cell_type": "code",
      "source": [
        "# Buatlah visualisasi yang menampilkan berapa banyak Education level berdasarkan kategori-kategorinya \n",
        "# contoh Unknown berapa dsb\n",
        "sns.countplot(data=df, x=\"Education_Level\")"
      ],
      "metadata": {
        "id": "UgQPmLrH_lbd",
        "colab": {
          "base_uri": "https://localhost:8080/",
          "height": 297
        },
        "outputId": "9684be32-10cb-4ca0-a680-ce6011157390"
      },
      "execution_count": null,
      "outputs": [
        {
          "output_type": "execute_result",
          "data": {
            "text/plain": [
              "<AxesSubplot:xlabel='Education_Level', ylabel='count'>"
            ]
          },
          "metadata": {},
          "execution_count": 9
        },
        {
          "output_type": "display_data",
          "data": {
            "text/plain": [
              "<Figure size 432x288 with 1 Axes>"
            ],
            "image/png": "[encoded data removed]"
          },
          "metadata": {
            "needs_background": "light"
          }
        }
      ]
    },
    {
      "cell_type": "markdown",
      "source": [
        "<p> visualisasi diatas memberikan perbandingan tiap kategori tingat pendidikan customer, jika dijabarkan dari tertinggi ke terendah maka:\n",
        "- uneducated\n",
        "- Graduated\n",
        "- High School\n",
        "- college dan Doctorate</p>"
      ],
      "metadata": {
        "id": "mN8N7BfY_aPi"
      }
    },
    {
      "cell_type": "markdown",
      "source": [],
      "metadata": {
        "id": "BRNS2dm2_VBk"
      }
    },
    {
      "cell_type": "code",
      "source": [
        "# Buatlah visualisasi yang menampilkan berapa banyak Education level berdasarkan gendernya\n",
        "sns.countplot(data=df, hue=\"Education_Level\", x=\"Gender\")"
      ],
      "metadata": {
        "id": "8Ahhq1TG__7k",
        "colab": {
          "base_uri": "https://localhost:8080/",
          "height": 296
        },
        "outputId": "8ff4e931-8e75-457f-eb69-76adc6bfa2ac"
      },
      "execution_count": null,
      "outputs": [
        {
          "output_type": "execute_result",
          "data": {
            "text/plain": [
              "<AxesSubplot:xlabel='Gender', ylabel='count'>"
            ]
          },
          "metadata": {},
          "execution_count": 10
        },
        {
          "output_type": "display_data",
          "data": {
            "text/plain": [
              "<Figure size 432x288 with 1 Axes>"
            ],
            "image/png": "[encoded data removed]"
          },
          "metadata": {
            "needs_background": "light"
          }
        }
      ]
    },
    {
      "cell_type": "markdown",
      "source": [
        "visualisasi diatas memberikan informasi perbandingan tingkat pendidikan antara gender Male(M) dan Female(F). dari data tersebut uneducated palng banyak terdiri dari Male(M), dan graduate di dominasi Female(f), serta (f) tidak ada yang memiliki tingkat pendidikan Unknown, College, dan Doctorate."
      ],
      "metadata": {
        "id": "l0RDSKIjPMae"
      }
    },
    {
      "cell_type": "markdown",
      "source": [
        "##### Visualisasi Distribution\n"
      ],
      "metadata": {
        "id": "CAFZk0hOAEUT"
      }
    },
    {
      "cell_type": "code",
      "source": [
        "# Buatlah historgram untuk customer dan credit card limit\n",
        "sns.histplot(data=df, x=\"Credit_Limit\", kde=True)"
      ],
      "metadata": {
        "id": "RX_wqpm7PPne",
        "colab": {
          "base_uri": "https://localhost:8080/",
          "height": 297
        },
        "outputId": "aeb979d4-a4e6-468a-f66e-cfea731d7c45"
      },
      "execution_count": null,
      "outputs": [
        {
          "output_type": "execute_result",
          "data": {
            "text/plain": [
              "<AxesSubplot:xlabel='Credit_Limit', ylabel='Count'>"
            ]
          },
          "metadata": {},
          "execution_count": 8
        },
        {
          "output_type": "display_data",
          "data": {
            "text/plain": [
              "<Figure size 432x288 with 1 Axes>"
            ],
            "image/png": "[encoded data removed]"
          },
          "metadata": {
            "needs_background": "light"
          }
        }
      ]
    },
    {
      "cell_type": "markdown",
      "source": [
        "histogram diatas menunjukkan seberapa besar limit kartu kredit konsumen dan rata-rata limit dari konsumen tersebut sebesar 5000"
      ],
      "metadata": {
        "id": "GV3gzCrFBch8"
      }
    },
    {
      "cell_type": "code",
      "source": [
        "sns.histplot(data=df, x=\"Customer_Age\", kde=True)"
      ],
      "metadata": {
        "colab": {
          "base_uri": "https://localhost:8080/",
          "height": 297
        },
        "id": "HWjvOBF77zTk",
        "outputId": "b99bec6b-ac0a-4f63-820d-4d7c5f44bbf8"
      },
      "execution_count": null,
      "outputs": [
        {
          "output_type": "execute_result",
          "data": {
            "text/plain": [
              "<AxesSubplot:xlabel='Customer_Age', ylabel='Count'>"
            ]
          },
          "metadata": {},
          "execution_count": 9
        },
        {
          "output_type": "display_data",
          "data": {
            "text/plain": [
              "<Figure size 432x288 with 1 Axes>"
            ],
            "image/png": "[encoded data removed]"
          },
          "metadata": {
            "needs_background": "light"
          }
        }
      ]
    },
    {
      "cell_type": "markdown",
      "source": [
        "histrogram menunjukkan umur client yang paling banyak berada pada range 55 < 60, yang artinya pengunjung di dominasi oleh orang tua diatas 40 tahun."
      ],
      "metadata": {
        "id": "EGLmnyTPCih1"
      }
    },
    {
      "cell_type": "code",
      "source": [
        "# Buatlah boxplot untuk customer age dan credit card limit\n",
        "\n",
        "sns.boxplot(data=df, x=\"Customer_Age\")"
      ],
      "metadata": {
        "id": "IcF_B1HmP7mO",
        "colab": {
          "base_uri": "https://localhost:8080/",
          "height": 297
        },
        "outputId": "f5a2f69d-2df9-4cdb-adcd-207d9cda1aa6"
      },
      "execution_count": null,
      "outputs": [
        {
          "output_type": "execute_result",
          "data": {
            "text/plain": [
              "<AxesSubplot:xlabel='Customer_Age'>"
            ]
          },
          "metadata": {},
          "execution_count": 15
        },
        {
          "output_type": "display_data",
          "data": {
            "text/plain": [
              "<Figure size 432x288 with 1 Axes>"
            ],
            "image/png": "[encoded data removed]"
          },
          "metadata": {
            "needs_background": "light"
          }
        }
      ]
    },
    {
      "cell_type": "markdown",
      "source": [
        "boxplot diatas menunjukkan rata\" konsumen berada pada umur 45-50 tahun. "
      ],
      "metadata": {
        "id": "mtKMAnYyDEr0"
      }
    },
    {
      "cell_type": "code",
      "source": [
        "sns.boxplot(data=df, x=\"Credit_Limit\")"
      ],
      "metadata": {
        "colab": {
          "base_uri": "https://localhost:8080/",
          "height": 297
        },
        "id": "JxiJGUlb8BRa",
        "outputId": "6c0c0628-bdae-4c2b-b251-49d669024ae0"
      },
      "execution_count": null,
      "outputs": [
        {
          "output_type": "execute_result",
          "data": {
            "text/plain": [
              "<AxesSubplot:xlabel='Credit_Limit'>"
            ]
          },
          "metadata": {},
          "execution_count": 16
        },
        {
          "output_type": "display_data",
          "data": {
            "text/plain": [
              "<Figure size 432x288 with 1 Axes>"
            ],
            "image/png": "[encoded data removed]"
          },
          "metadata": {
            "needs_background": "light"
          }
        }
      ]
    },
    {
      "cell_type": "markdown",
      "source": [
        "boxplot diatas menunjukkan distribusi limit kartu kredit konsumen dan dari data diatas disimpulka rata\" konsumen memiliki limit sebanyak 5000 < 10000."
      ],
      "metadata": {
        "id": "hmE3O4EnDaSj"
      }
    },
    {
      "cell_type": "markdown",
      "source": [
        "berikan penjelasannya disini"
      ],
      "metadata": {
        "id": "v_TwvSa9P94E"
      }
    },
    {
      "cell_type": "markdown",
      "source": [
        "##### Visualisasi Relationship\n",
        "\n",
        "\n"
      ],
      "metadata": {
        "id": "ezkaX5QbPfNG"
      }
    },
    {
      "cell_type": "code",
      "source": [
        "# Buatlah scatterplot untuk umur customer dan credit card limit\n",
        "sns.scatterplot(data=df, x=\"Customer_Age\", y=\"Credit_Limit\")"
      ],
      "metadata": {
        "id": "y-lzGBWSP3b8",
        "colab": {
          "base_uri": "https://localhost:8080/",
          "height": 297
        },
        "outputId": "42fbb955-703f-434e-adb8-044e4c4db505"
      },
      "execution_count": null,
      "outputs": [
        {
          "output_type": "execute_result",
          "data": {
            "text/plain": [
              "<AxesSubplot:xlabel='Customer_Age', ylabel='Credit_Limit'>"
            ]
          },
          "metadata": {},
          "execution_count": 17
        },
        {
          "output_type": "display_data",
          "data": {
            "text/plain": [
              "<Figure size 432x288 with 1 Axes>"
            ],
            "image/png": "[encoded data removed]"
          },
          "metadata": {
            "needs_background": "light"
          }
        }
      ]
    },
    {
      "cell_type": "markdown",
      "source": [
        "Scatterplot diatas menunjukkan bahwa kebanyakan client umur 40-50an tahun memiliki limit kredit dibawah 10000."
      ],
      "metadata": {
        "id": "v_MgnJ-cDwuH"
      }
    },
    {
      "cell_type": "markdown",
      "source": [
        "##### Visualisasi Composition\n",
        "\n",
        "\n"
      ],
      "metadata": {
        "id": "5jEZ8lWTQWwG"
      }
    },
    {
      "cell_type": "code",
      "source": [
        "# Buatlah pieplot untuk Income Category & Education Level\n",
        "#Income Category\n",
        "px.pie(df, names=\"Income_Category\")"
      ],
      "metadata": {
        "id": "hjPoni4qQWwH"
      },
      "execution_count": null,
      "outputs": []
    },
    {
      "cell_type": "markdown",
      "source": [
        "dari Visualisasi Piechart menunjukkan rata-rata income dari konsumen, diketahui bahwa pendapatan rata\" konsumen < 40k dan sebanyak 60k , kemudia kategori terbesar setelahnya adalah 80k dan uknown, sisanya memiliki pendapatan 40k dan 120k "
      ],
      "metadata": {
        "id": "bFodjL80EEfP"
      }
    },
    {
      "cell_type": "code",
      "source": [
        "#Education Level\n",
        "px.pie(df, names=\"Education_Level\")"
      ],
      "metadata": {
        "id": "NGT2nljQ8iNC"
      },
      "execution_count": null,
      "outputs": []
    },
    {
      "cell_type": "markdown",
      "source": [
        "### Opsional (Nilai Plus)"
      ],
      "metadata": {
        "id": "rNiY6kMdQlqj"
      }
    },
    {
      "cell_type": "code",
      "source": [
        "# Buatlah visualisasi boxplot Credit Card Limit dengan Jenis Kelamin sebagai pemisahnya (color)\n",
        "sns.boxplot(data=df, x=\"Credit_Limit\", y=\"Gender\")"
      ],
      "metadata": {
        "id": "S5YG0MSeQpKh"
      },
      "execution_count": null,
      "outputs": []
    },
    {
      "cell_type": "code",
      "source": [
        "# Buatlah visualisasi boxplot Credit Card Limit dengan Attrition Flag sebagai pemisahnya (color)\n",
        "sns.boxplot(data=df, x=\"Credit_Limit\", y=\"Attrition_Flag\")"
      ],
      "metadata": {
        "id": "T1b84fGPQ4OZ"
      },
      "execution_count": null,
      "outputs": []
    },
    {
      "cell_type": "code",
      "source": [
        "# Buatlah visualisasi boxplot Age dengan Attrition Flag sebagai pemisahnya (color)\n",
        "sns.boxplot(data=df, x=\"Customer_Age\", y=\"Attrition_Flag\")"
      ],
      "metadata": {
        "id": "9VGH1FdjQ_i4"
      },
      "execution_count": null,
      "outputs": []
    },
    {
      "cell_type": "code",
      "source": [
        "# Buatlah visualisasi countplot  Attrition Flag dengan jenis kelamin sebagai pemisahnya (color)\n",
        "sns.countplot(data=df, x=\"Attrition_Flag\", hue=\"Gender\")"
      ],
      "metadata": {
        "id": "lkh33qRARKup"
      },
      "execution_count": null,
      "outputs": []
    },
    {
      "cell_type": "code",
      "source": [
        "# Buatlah visualisasi heatmap untuk Setiap variabel numerik yang ada\n",
        "dfnum = df[['Unnamed: 0', 'CLIENTNUM', 'Customer_Age', 'Credit_Limit']]\n",
        "sns.heatmap(data=dfnum)\n",
        "dfnum"
      ],
      "metadata": {
        "id": "BmcfGNL1Rdb_"
      },
      "execution_count": null,
      "outputs": []
    },
    {
      "cell_type": "markdown",
      "source": [
        "## Algoritma Naive Bayes dan Preprocessing (pengenalan)"
      ],
      "metadata": {
        "id": "2W-0dXGMRm5g"
      }
    },
    {
      "cell_type": "code",
      "source": [
        "# sebelum membuat algoritma pertama tama buatlah dataset baru dengan ketentuan\n",
        "# mengambil dataset df\n",
        "# Menghapus kolom Unnamed: 0, CLIENTNUM, Umur, dan Limit Kartu Kredit (initinya yang berupa primary key dan bukan tipe kategori)\n",
        "# dataset dengan kolom yang sudah dihapus tadi kemudian disimpan di dataframe baru (df baru)\n"
      ],
      "metadata": {
        "id": "dr9RJsatR35G"
      },
      "execution_count": null,
      "outputs": []
    },
    {
      "cell_type": "code",
      "source": [
        "# Buatlah sebuah fungsi naive bayes dengan ketentuan\n",
        "# Mengambil data dari dataframe yang telah diproses pada blok sebelumnya (diatas)\n",
        "# Nama fungsinya adalah naive_bayes\n",
        "# Mengambil 1 saja parameter yaitu sebuah list berisi kategori\n",
        "\n",
        "# Outputnya berupa prediksi Attrited Customer atau Existing Customer\n",
        "# Outputnya berupa tuple (_hasilnya, persentasenya berapa) contoh (Existing Customer, 0.004)\n",
        "\n",
        "# Tidak boleh menggunakan library manapun selain pandas dan numpy\n",
        "\n",
        "\n",
        "\n",
        "# contoh\n",
        "# def naive_bayes(prediksi:list)-> tuple :\n",
        "#   ........\n",
        "\n",
        "# jadi nanti saat saya coba masukan data \n",
        "# naive_bayes([\"F\",\t\"Uneducated\",\"Single\", \"Unknown\tBlue\"]) akan keluar tuple berupa (\"Attired Customer\", 0.002)\n"
      ],
      "metadata": {
        "id": "2EgdoQwHSasF"
      },
      "execution_count": null,
      "outputs": []
    },
    {
      "cell_type": "code",
      "source": [
        "dfa = df.drop(['Unnamed: 0', 'CLIENTNUM', 'Customer_Age', 'Credit_Limit'], axis=1)\n",
        "dfa\n",
        "\n",
        "def naivebayes(kemungkinan:list):\n",
        "  olf = dfa[dfa.Attrition_Flag == 'Attrited Customer'] #dataset khusus Attrited Customer\n",
        "  kasus_olf = len(olf)/len(dfa) #peluang kasus Attrited Customer\n",
        "\n",
        "  ar = dfa[dfa.Attrition_Flag == 'Existing Customer'] #dataset khusus Existing Customer\n",
        "  kasus_ar = len(ar)/len(dfa) #peluang kasus Existing Customer\n",
        "\n",
        "  #Hitung nilai P(XK|Ci) untuk setiap kelas i\n",
        "  for i in range(len(kemungkinan)):\n",
        "    p_olf = olf[olf.iloc[:,i] == kemungkinan[i]]\n",
        "    #Variabel kemungkinan Attrited Customer dengan mengambil index location/iloc dari index kolom dataset AC\n",
        "    p_ar = ar[ar.iloc[:,i] == kemungkinan[i]]\n",
        "    #Variabel kemungkinan Attrited Customer dengan mengambil index location/iloc dari index kolom dataset EX\n",
        "\n",
        "    #Jumlah total setiap kasus (termasuk setiap data unik pada keseluruhan dataset/dfa)\n",
        "    a = len(olf) + len(dfa.iloc[:,i].unique())\n",
        "    b = len(ar) + len(dfa.iloc[:,i].unique())\n",
        "\n",
        "    peluang_baru_olf = (len(p_olf) +1) / a\n",
        "    peluang_baru_ar = (len(p_ar) +1) / b\n",
        "\n",
        "  #Hitung nilai P(X|Ci) untuk setiap Kelas (Label)\n",
        "    if i == 0: #jika nilainya nol, maka akan tetap nol.\n",
        "      p_terjadi_olf = peluang_baru_olf\n",
        "      p_terjadi_ar = peluang_baru_ar\n",
        "    else: #jika tidak, maka dapat dikalikan \n",
        "      p_terjadi_olf *= peluang_baru_olf\n",
        "      p_terjadi_ar *= peluang_baru_ar\n",
        "\n",
        "  #Hitung nilai P(X|Ci) * P(Ci)\n",
        "  peluang_baru_olf = kasus_olf * p_terjadi_olf\n",
        "  peluang_baru_ar = kasus_ar * p_terjadi_ar\n",
        "\n",
        "  #Menetukan klas dari kasus\n",
        "  total_p = peluang_baru_olf + peluang_baru_ar\n",
        "  perbandingan = peluang_baru_ar / total_p\n",
        "  output = 'Attrited Customer' if perbandingan < 0.5 else 'Existing Customer'\n",
        "  turn = str(perbandingan)\n",
        "  print('perhitungan menghasilkan  ' + output + ' dengan nilai peluang ' + turn)\n",
        "\n",
        "naivebayes([\"F\", \"Uneducated\", \"Single\", \"Unknown\", \"Blue\"])\n",
        "naivebayes([\"M\", \"Graduate\", \"Single\", \"Less than $40K\", \"Blue\"])"
      ],
      "metadata": {
        "colab": {
          "base_uri": "https://localhost:8080/"
        },
        "id": "gmSwEsf-whDL",
        "outputId": "319e9154-b1dd-43b9-de30-e57f129c64be"
      },
      "execution_count": null,
      "outputs": [
        {
          "output_type": "stream",
          "name": "stdout",
          "text": [
            "perhitungan menghasilkan  Attrited Customer dengan nilai peluang 0.25\n",
            "perhitungan menghasilkan  Existing Customer dengan nilai peluang 0.5\n"
          ]
        }
      ]
    }
  ]
}